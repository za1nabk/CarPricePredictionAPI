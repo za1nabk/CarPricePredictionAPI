{
 "cells": [
  {
   "cell_type": "code",
   "execution_count": null,
   "metadata": {},
   "outputs": [
    {
     "name": "stdout",
     "output_type": "stream",
     "text": [
      "Requirement already satisfied: pandas in c:\\users\\zaina\\appdata\\local\\packages\\pythonsoftwarefoundation.python.3.11_qbz5n2kfra8p0\\localcache\\local-packages\\python311\\site-packages (2.2.3)\n",
      "Requirement already satisfied: numpy>=1.23.2 in c:\\users\\zaina\\appdata\\local\\packages\\pythonsoftwarefoundation.python.3.11_qbz5n2kfra8p0\\localcache\\local-packages\\python311\\site-packages (from pandas) (2.2.3)\n",
      "Requirement already satisfied: python-dateutil>=2.8.2 in c:\\users\\zaina\\appdata\\local\\packages\\pythonsoftwarefoundation.python.3.11_qbz5n2kfra8p0\\localcache\\local-packages\\python311\\site-packages (from pandas) (2.9.0.post0)\n",
      "Requirement already satisfied: pytz>=2020.1 in c:\\users\\zaina\\appdata\\local\\packages\\pythonsoftwarefoundation.python.3.11_qbz5n2kfra8p0\\localcache\\local-packages\\python311\\site-packages (from pandas) (2025.1)\n",
      "Requirement already satisfied: tzdata>=2022.7 in c:\\users\\zaina\\appdata\\local\\packages\\pythonsoftwarefoundation.python.3.11_qbz5n2kfra8p0\\localcache\\local-packages\\python311\\site-packages (from pandas) (2025.1)\n",
      "Requirement already satisfied: six>=1.5 in c:\\users\\zaina\\appdata\\local\\packages\\pythonsoftwarefoundation.python.3.11_qbz5n2kfra8p0\\localcache\\local-packages\\python311\\site-packages (from python-dateutil>=2.8.2->pandas) (1.17.0)\n",
      "Note: you may need to restart the kernel to use updated packages.\n",
      "   price    model  mileage   color  car_age  brand_audi  brand_bmw  \\\n",
      "0   6300  cruiser   274117   black       17           0          0   \n",
      "1   2899       se   190552  silver       14           0          0   \n",
      "2   5350      mpv    39590  silver        7           0          0   \n",
      "3  25000     door    64146    blue       11           0          0   \n",
      "4  27700     1500     6654     red        7           0          0   \n",
      "\n",
      "   brand_buick  brand_cadillac  brand_chevrolet  ...  state_south carolina  \\\n",
      "0            0               0                0  ...                     0   \n",
      "1            0               0                0  ...                     0   \n",
      "2            0               0                0  ...                     0   \n",
      "3            0               0                0  ...                     0   \n",
      "4            0               0                1  ...                     0   \n",
      "\n",
      "   state_tennessee  state_texas  state_utah  state_vermont  state_virginia  \\\n",
      "0                0            0           0              0               0   \n",
      "1                1            0           0              0               0   \n",
      "2                0            0           0              0               0   \n",
      "3                0            0           0              0               1   \n",
      "4                0            0           0              0               0   \n",
      "\n",
      "   state_washington  state_west virginia  state_wisconsin  state_wyoming  \n",
      "0                 0                    0                0              0  \n",
      "1                 0                    0                0              0  \n",
      "2                 0                    0                0              0  \n",
      "3                 0                    0                0              0  \n",
      "4                 0                    0                0              0  \n",
      "\n",
      "[5 rows x 76 columns]\n"
     ]
    }
   ],
   "source": [
    "%pip install pandas\n",
    "import pandas as pd\n",
    "df = pd.read_csv('cleaned_usa_cars_dataset.csv');\n",
    "\n",
    "print(df.head())\n",
    "\n",
    "from sklearn.model_selection import train_test_split\n"
   ]
  },
  {
   "cell_type": "code",
   "execution_count": null,
   "metadata": {},
   "outputs": [],
   "source": [
    "# Install scikit-learn (only needed if not installed)\n",
    "%pip install scikit-learn  \n",
    "\n",
    "# Import the correct module\n",
    "from sklearn.model_selection import train_test_split  \n",
    "\n",
    "# Define features (X) and target variable (y)\n",
    "X = df.drop(columns=[\"price\", \"model\", \"color\"])  \n",
    "y = df[\"price\"]  # Price is the target variable\n",
    "\n",
    "# Split into 80% training and 20% testing\n",
    "X_train, X_test, y_train, y_test = train_test_split(X, y, test_size=0.2, random_state=42)\n",
    "\n",
    "# Check the shape of the data\n",
    "print(\"Training Data Shape:\", X_train.shape)\n",
    "print(\"Testing Data Shape:\", X_test.shape)\n"
   ]
  },
  {
   "cell_type": "code",
   "execution_count": null,
   "metadata": {},
   "outputs": [],
   "source": [
    "from sklearn.linear_model import LinearRegression\n",
    "\n",
    "# Initialize the model\n",
    "model = LinearRegression()\n",
    "\n",
    "# Train the model\n",
    "model.fit(X_train, y_train)\n",
    "\n",
    "# Predict car prices on the test set\n",
    "y_pred = model.predict(X_test)\n"
   ]
  },
  {
   "cell_type": "code",
   "execution_count": null,
   "metadata": {},
   "outputs": [],
   "source": [
    "from sklearn.metrics import mean_absolute_error\n",
    "\n",
    "# Calculate MAE\n",
    "mae = mean_absolute_error(y_test, y_pred)\n",
    "print(f\"Linear Regression MAE: ${mae:.2f}\")\n"
   ]
  },
  {
   "cell_type": "code",
   "execution_count": null,
   "metadata": {},
   "outputs": [],
   "source": [
    "from sklearn.ensemble import RandomForestRegressor\n",
    "\n",
    "# Initialize model\n",
    "rf_model = RandomForestRegressor(n_estimators=100, random_state=42)\n",
    "\n",
    "# Train model\n",
    "rf_model.fit(X_train, y_train)\n",
    "\n",
    "# Predict on test data\n",
    "y_pred_rf = rf_model.predict(X_test)\n",
    "\n",
    "# Evaluate performance\n",
    "mae_rf = mean_absolute_error(y_test, y_pred_rf)\n",
    "print(f\"Random Forest MAE: ${mae_rf:.2f}\")\n"
   ]
  },
  {
   "cell_type": "code",
   "execution_count": null,
   "metadata": {},
   "outputs": [],
   "source": [
    "import numpy as np\n",
    "\n",
    "# Create a dictionary with the correct number of features (fill missing ones with 0)\n",
    "sample_data = {\n",
    "    \"car_age\": [10],  # Example: 10-year-old car\n",
    "    \"mileage\": [50000],  # Example mileage\n",
    "    \"brand_toyota\": [1],  # Example: Toyota car\n",
    "    \"brand_ford\": [0],\n",
    "    \"title_status_clean\": [1],  # Example: Clean title\n",
    "    \"title_status_salvage\": [0],\n",
    "    \"state_texas\": [1],  # Example: Car in Texas\n",
    "    \"state_california\": [0],\n",
    "    \"state_florida\": [0],\n",
    "}\n",
    "\n",
    "# Convert to DataFrame and match `X_train` column order\n",
    "sample_car_df = pd.DataFrame(sample_data)\n",
    "\n",
    "# Add missing columns with 0 (to match `X_train`)\n",
    "for col in X_train.columns:\n",
    "    if col not in sample_car_df.columns:\n",
    "        sample_car_df[col] = 0\n",
    "\n",
    "# Ensure the columns are in the same order as `X_train`\n",
    "sample_car_df = sample_car_df[X_train.columns]\n",
    "\n",
    "# Predict price using the trained model\n",
    "predicted_price = rf_model.predict(sample_car_df)\n",
    "print(f\"Estimated Car Price: ${predicted_price[0]:.2f}\")\n"
   ]
  },
  {
   "cell_type": "code",
   "execution_count": null,
   "metadata": {},
   "outputs": [],
   "source": [
    "%pip install flask\n"
   ]
  },
  {
   "cell_type": "code",
   "execution_count": null,
   "metadata": {},
   "outputs": [],
   "source": [
    "import joblib\n",
    "\n",
    "# Save the trained model to a file\n",
    "joblib.dump(rf_model, \"car_price_model.pkl\")\n",
    "\n",
    "# Save feature names (to ensure correct input format)\n",
    "joblib.dump(X_train.columns.tolist(), \"feature_columns.pkl\")\n"
   ]
  },
  {
   "cell_type": "code",
   "execution_count": null,
   "metadata": {},
   "outputs": [],
   "source": [
    "from flask import Flask, request, jsonify\n",
    "import joblib\n",
    "import pandas as pd\n",
    "\n",
    "# Load the trained model and feature names\n",
    "model = joblib.load(\"car_price_model.pkl\")\n",
    "feature_columns = joblib.load(\"feature_columns.pkl\")\n",
    "\n",
    "# Initialize Flask app\n",
    "app = Flask(__name__)\n",
    "\n",
    "@app.route(\"/\", methods=[\"GET\"])\n",
    "def home():\n",
    "    return \"Welcome to the Car Price Prediction API!\"\n",
    "\n",
    "@app.route(\"/predict\", methods=[\"POST\"])\n",
    "def predict():\n",
    "    try:\n",
    "        # Get JSON request data\n",
    "        data = request.get_json()\n",
    "\n",
    "        # Convert input to DataFrame and match feature order\n",
    "        input_data = pd.DataFrame([data])\n",
    "        for col in feature_columns:\n",
    "            if col not in input_data.columns:\n",
    "                input_data[col] = 0  # Fill missing features with 0\n",
    "\n",
    "        input_data = input_data[feature_columns]  # Match order\n",
    "\n",
    "        # Make prediction\n",
    "        prediction = model.predict(input_data)[0]\n",
    "        \n",
    "        return jsonify({\"estimated_price\": f\"${prediction:.2f}\"})\n",
    "\n",
    "    except Exception as e:\n",
    "        return jsonify({\"error\": str(e)})\n",
    "\n",
    "# Run the app\n",
    "if __name__ == \"__main__\":\n",
    "    app.run(debug=True)\n"
   ]
  },
  {
   "cell_type": "markdown",
   "metadata": {},
   "source": []
  },
  {
   "cell_type": "markdown",
   "metadata": {},
   "source": []
  }
 ],
 "metadata": {
  "kernelspec": {
   "display_name": "Python 3",
   "language": "python",
   "name": "python3"
  },
  "language_info": {
   "codemirror_mode": {
    "name": "ipython",
    "version": 3
   },
   "file_extension": ".py",
   "mimetype": "text/x-python",
   "name": "python",
   "nbconvert_exporter": "python",
   "pygments_lexer": "ipython3",
   "version": "3.11.9"
  }
 },
 "nbformat": 4,
 "nbformat_minor": 2
}
